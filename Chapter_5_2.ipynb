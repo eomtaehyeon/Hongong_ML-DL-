{
  "nbformat": 4,
  "nbformat_minor": 0,
  "metadata": {
    "colab": {
      "name": "Chapter_5_2.ipynb",
      "provenance": [],
      "collapsed_sections": [],
      "toc_visible": true,
      "authorship_tag": "ABX9TyO1mTXdZImi/PWunuI1mpCl",
      "include_colab_link": true
    },
    "kernelspec": {
      "name": "python3",
      "display_name": "Python 3"
    },
    "language_info": {
      "name": "python"
    }
  },
  "cells": [
    {
      "cell_type": "markdown",
      "metadata": {
        "id": "view-in-github",
        "colab_type": "text"
      },
      "source": [
        "<a href=\"https://colab.research.google.com/github/eomtaehyeon/Hongong_ML-DL-/blob/main/Chapter_5_2.ipynb\" target=\"_parent\"><img src=\"https://colab.research.google.com/assets/colab-badge.svg\" alt=\"Open In Colab\"/></a>"
      ]
    },
    {
      "cell_type": "markdown",
      "source": [
        "# 교차 검증과 그리드 서치\n",
        "- 키워드 : 하이퍼 파라미터 (그리드 서치 vs 랜덤서치)\n",
        "- 데이터가 작을 때, 주로 사용\n",
        "- 하이퍼파라미터\n",
        "  + max_depth : 3, 정확도가 84%\n",
        "- 결론\n",
        "  + 모르면 디폴트만 쓰자!\n",
        "  + 가성비(시간 대비 성능 보장 안됨!)"
      ],
      "metadata": {
        "id": "mYXDL4yQ5Ak5"
      }
    },
    {
      "cell_type": "markdown",
      "source": [
        "# 검증세트\n",
        "- 테스트 세트를 사용하지 않고 이를 측정하는 간단한 방법은 훈련세트를 또 나눈 데이터\n",
        "- 테스트 세트 (1회성)\n",
        "- 훈련데이터를 훈련 데이터 + 검증 데이터로 재 분할"
      ],
      "metadata": {
        "id": "sSIVzyz95c7v"
      }
    },
    {
      "cell_type": "markdown",
      "source": [
        "## 현실\n",
        "- 테스트 데이터가 별도로 존재하지 않음!\n",
        "- 전체 데이터 = 훈련(6) : 검증(2) : 테스트(2)\n",
        "  + 테스트 데이터는 모르는 데이터로 생각!"
      ],
      "metadata": {
        "id": "LKQuwdm3O4jV"
      }
    },
    {
      "cell_type": "code",
      "execution_count": null,
      "metadata": {
        "colab": {
          "base_uri": "https://localhost:8080/"
        },
        "id": "TvkLJP7QrJza",
        "outputId": "76b75274-4484-47ce-e44a-5076b755a69f"
      },
      "outputs": [
        {
          "output_type": "stream",
          "name": "stdout",
          "text": [
            "(4157, 3) (1040, 3)\n"
          ]
        }
      ],
      "source": [
        "# 데이터 불러오기\n",
        "import pandas as pd\n",
        "wine = pd.read_csv('http://bit.ly/wine_csv_data')\n",
        "\n",
        "data = wine[['alcohol','sugar','pH']].to_numpy()\n",
        "target = wine['class'].to_numpy()\n",
        "\n",
        "# 훈련세트와 테스트세트로 나눔.\n",
        "from sklearn.model_selection import train_test_split\n",
        "train_input, test_input, train_target, test_target = train_test_split(\n",
        "    data, target, test_size=0.2, random_state=42\n",
        ")\n",
        "# 훈련세트와 검증세트를 만듦\n",
        "sub_input, val_input, sub_target, val_target = train_test_split(\n",
        "    train_input, train_target, test_size=0.2, random_state=42\n",
        ")\n",
        "\n",
        "# 훈련세트 검증세트의 크기\n",
        "print(sub_input.shape, val_input.shape)"
      ]
    },
    {
      "cell_type": "markdown",
      "source": [
        "## 모델 만든 후 평가\n",
        "- 과대적합 발생"
      ],
      "metadata": {
        "id": "Dum6asJPRD3W"
      }
    },
    {
      "cell_type": "code",
      "source": [
        "from sklearn.tree import DecisionTreeClassifier\n",
        "dt = DecisionTreeClassifier(random_state=42)\n",
        "dt.fit(sub_input, sub_target)\n",
        "print(dt.score(sub_input, sub_target))\n",
        "print(dt.score(val_input, val_target))"
      ],
      "metadata": {
        "colab": {
          "base_uri": "https://localhost:8080/"
        },
        "id": "-x2Fal9BEB22",
        "outputId": "5bb8247c-8f24-48c7-8535-b403a77e9754"
      },
      "execution_count": null,
      "outputs": [
        {
          "output_type": "stream",
          "name": "stdout",
          "text": [
            "0.9971133028626413\n",
            "0.864423076923077\n"
          ]
        }
      ]
    },
    {
      "cell_type": "markdown",
      "source": [
        "## 교차 검증\n",
        "- 검증 세트를 떼어 내어 평가하는 과정을 여러 번 반복.\n",
        "  + 3-폴드 교차 검증 : 훈련 세트를 세 부분으로 나눠서 교차 검증을 수행하는 것.\n",
        "  + 보통 5-폴드 교차 검증이나 10-폴드 교차 검증을 많이 씀.\n",
        "- cross_validate()함수 사용해서 교차 검증.\n",
        "  + 사이킷런에는 cross_validate() 함수의 전신인 cross_val_score()함수도 있다. 이 함수는 cross_validate() 함수의 결과 중에서 test_score 값만 반환.\n",
        "  + 이 함수는 fit_time, score_time, test_score 키를 가진 딕셔너리를 반환.\n",
        "  + 기본적으로 5-폴드 교차 검증을 수행.\n",
        "- 교차 검증의 목적 : 좋은 모델이 만들어진다!\n",
        "  + 좋은 모델 != 성능 좋은 모델\n",
        "  + 좋은 모델 = 과대적합이 아닌 모델 = 모형의 오차가 적은 모델 = 안정적인 모델\n",
        "- 단점 : 시간이 오래 걸림\n"
      ],
      "metadata": {
        "id": "OU78VBEQE_y-"
      }
    },
    {
      "cell_type": "markdown",
      "source": [
        "# 교차 검증 함수"
      ],
      "metadata": {
        "id": "hPag1iI0TZOP"
      }
    },
    {
      "cell_type": "code",
      "source": [
        "from sklearn.model_selection import cross_validate\n",
        "scores = cross_validate(dt, train_input, train_target)\n",
        "print(scores)"
      ],
      "metadata": {
        "colab": {
          "base_uri": "https://localhost:8080/"
        },
        "id": "c42L59b9FDg2",
        "outputId": "aad9563c-1602-460b-f9e0-e8fc151cf71e"
      },
      "execution_count": null,
      "outputs": [
        {
          "output_type": "stream",
          "name": "stdout",
          "text": [
            "{'fit_time': array([0.01392674, 0.01075053, 0.01143503, 0.01178861, 0.01016068]), 'score_time': array([0.00142336, 0.001369  , 0.00134206, 0.00183415, 0.00129271]), 'test_score': array([0.86923077, 0.84615385, 0.87680462, 0.84889317, 0.83541867])}\n"
          ]
        }
      ]
    },
    {
      "cell_type": "markdown",
      "source": [
        "- fit_time, score_time은 각각 모델을 훈련하는 시간과 검증하는 시간을 의미.\n",
        "- 교차 검증의 최종 점수는 test_score 5개의 점수를 평균."
      ],
      "metadata": {
        "id": "_ELJiKzQHQ-v"
      }
    },
    {
      "cell_type": "code",
      "source": [
        "import numpy as np\n",
        "print(np.mean(scores['test_score']))"
      ],
      "metadata": {
        "colab": {
          "base_uri": "https://localhost:8080/"
        },
        "id": "rw_gnwMfIBBO",
        "outputId": "01ef7a65-ddf2-4e3a-d9cd-f9e3421b3aad"
      },
      "execution_count": null,
      "outputs": [
        {
          "output_type": "stream",
          "name": "stdout",
          "text": [
            "0.855300214703487\n"
          ]
        }
      ]
    },
    {
      "cell_type": "markdown",
      "source": [
        "  + 주의점 : cross_validate()는 훈련 세트를 섞어 폴드를 나누지 않는다. 교차 검증을 할 때 훈련 세트를 섞으려면 분할기를 지정해야 한다.\n",
        "  + 회귀 모델 : KFold, 분류 모델 : StratifiedKFold"
      ],
      "metadata": {
        "id": "r_nXDBouIxBA"
      }
    },
    {
      "cell_type": "code",
      "source": [
        "# StratifiedKFold 사용\n",
        "from sklearn.model_selection import StratifiedKFold\n",
        "scores = cross_validate(dt, train_input, train_target, cv = StratifiedKFold())\n",
        "print(np.mean(scores['test_score']))"
      ],
      "metadata": {
        "colab": {
          "base_uri": "https://localhost:8080/"
        },
        "id": "NVCGbWJJJtqP",
        "outputId": "c5ea243d-b171-4f33-a182-910205fdf831"
      },
      "execution_count": null,
      "outputs": [
        {
          "output_type": "stream",
          "name": "stdout",
          "text": [
            "0.855300214703487\n"
          ]
        }
      ]
    },
    {
      "cell_type": "markdown",
      "source": [
        "- 훈련 세트 섞은 후 10-폴드 교차검증"
      ],
      "metadata": {
        "id": "im-XwnXiUKZs"
      }
    },
    {
      "cell_type": "code",
      "source": [
        "from sklearn.model_selection import StratifiedKFold\n",
        "splitter = StratifiedKFold(n_splits = 10, shuffle = True, random_state = 42)\n",
        "scores = cross_validate(dt, train_input, train_target, cv = splitter)\n",
        "\n",
        "print(np.mean(scores['test_score']))"
      ],
      "metadata": {
        "colab": {
          "base_uri": "https://localhost:8080/"
        },
        "id": "GTp-MzCGURlN",
        "outputId": "0d423620-ebdf-42b3-e57d-257d0357b257"
      },
      "execution_count": null,
      "outputs": [
        {
          "output_type": "stream",
          "name": "stdout",
          "text": [
            "0.8574181117533719\n"
          ]
        }
      ]
    },
    {
      "cell_type": "markdown",
      "source": [
        "## 하이퍼파라미터 튜닝 꼭 하고 싶다!\n",
        "- 랜덤 서치 사용하자!\n",
        "- 자동으로 잡아주는 라이브러리들이 등장하기 시작함\n",
        "  + hyperopt\n",
        "- 그리드 서치는 잘모르기때문에 비추"
      ],
      "metadata": {
        "id": "L-esBFjLKmKO"
      }
    },
    {
      "cell_type": "code",
      "source": [
        "%%time\n",
        "\n",
        "from sklearn.model_selection import GridSearchCV\n",
        "params = {\n",
        "    'min_impurity_decrease' :[0.0001, 0.0002, 0.0003, 0.0004, 0.0005]\n",
        "          }\n",
        "\n",
        "\n",
        "# dt = DecisionTreeClassifier(random_state=42)\n",
        "gs = GridSearchCV(DecisionTreeClassifier(random_state=42), params, n_jobs=-1) # -1은 모든 코어를 다 쓰겠다.\n",
        "gs.fit(train_input, train_target)"
      ],
      "metadata": {
        "colab": {
          "base_uri": "https://localhost:8080/"
        },
        "id": "N-g3CGUda70r",
        "outputId": "67690cd9-5fac-4aa3-e078-78171dea6ef1"
      },
      "execution_count": null,
      "outputs": [
        {
          "output_type": "stream",
          "name": "stdout",
          "text": [
            "CPU times: user 76.3 ms, sys: 656 µs, total: 76.9 ms\n",
            "Wall time: 178 ms\n"
          ]
        }
      ]
    },
    {
      "cell_type": "code",
      "source": [
        "# max_depth 값 추가\n",
        "\"\"\"\n",
        "%%time\n",
        "\n",
        "from sklearn.model_selection import GridSearchCV\n",
        "params = {\n",
        "    'min_impurity_decrease' :[0.0001, 0.0002, 0.0003, 0.0004, 0.0005],\n",
        "    'max_depth' : [3,4,5,6,7]\n",
        "          }\n",
        "\n",
        "\n",
        "# dt = DecisionTreeClassifier(random_state=42)\n",
        "gs = GridSearchCV(DecisionTreeClassifier(random_state=42), params, n_jobs=-1) # -1은 모든 코어를 다 쓰겠다.\n",
        "gs.fit(train_input, train_target)\n",
        "\"\"\""
      ],
      "metadata": {
        "colab": {
          "base_uri": "https://localhost:8080/"
        },
        "id": "8mepxSkbcIym",
        "outputId": "86bb9bc1-8424-4d6a-e012-439d0c00ab26"
      },
      "execution_count": null,
      "outputs": [
        {
          "output_type": "stream",
          "name": "stdout",
          "text": [
            "CPU times: user 190 ms, sys: 5.64 ms, total: 196 ms\n",
            "Wall time: 934 ms\n"
          ]
        }
      ]
    },
    {
      "cell_type": "code",
      "source": [
        "dt = gs.best_estimator_\n",
        "print(dt)\n",
        "print(dt.score(train_input, train_target))\n",
        "print(gs.best_params_)"
      ],
      "metadata": {
        "colab": {
          "base_uri": "https://localhost:8080/"
        },
        "id": "E-HbTMVWcYfu",
        "outputId": "7bc32624-9632-4762-f3a2-5125c2ce279c"
      },
      "execution_count": null,
      "outputs": [
        {
          "output_type": "stream",
          "name": "stdout",
          "text": [
            "DecisionTreeClassifier(min_impurity_decrease=0.0001, random_state=42)\n",
            "0.9615162593804117\n",
            "{'min_impurity_decrease': 0.0001}\n"
          ]
        }
      ]
    },
    {
      "cell_type": "code",
      "source": [
        "print(gs.cv_results_['mean_test_score'])"
      ],
      "metadata": {
        "colab": {
          "base_uri": "https://localhost:8080/"
        },
        "id": "lY8M0xAVdaYk",
        "outputId": "bd0e65aa-97ab-434e-e723-c9aa041a4c61"
      },
      "execution_count": null,
      "outputs": [
        {
          "output_type": "stream",
          "name": "stdout",
          "text": [
            "[0.86819297 0.86453617 0.86492226 0.86780891 0.86761605]\n"
          ]
        }
      ]
    },
    {
      "cell_type": "markdown",
      "source": [
        "# 랜덤 서치\n",
        "- 매개변수 값의 목록을 전달하는 것이 아니라 매개변수를 샘플링할 수 있도록 확률 분포 객체를 전달.\n"
      ],
      "metadata": {
        "id": "aP8VbfwQeBGz"
      }
    },
    {
      "cell_type": "code",
      "source": [
        "from scipy.stats import uniform, randint\n",
        "rgen = randint(0, 10)\n",
        "rgen.rvs(10)"
      ],
      "metadata": {
        "colab": {
          "base_uri": "https://localhost:8080/"
        },
        "id": "K_laeTa7eFxl",
        "outputId": "67531816-95bd-4ebc-b1c5-4d992a9729bd"
      },
      "execution_count": null,
      "outputs": [
        {
          "output_type": "execute_result",
          "data": {
            "text/plain": [
              "array([0, 7, 1, 8, 7, 5, 1, 6, 8, 3])"
            ]
          },
          "metadata": {},
          "execution_count": 27
        }
      ]
    },
    {
      "cell_type": "code",
      "source": [
        "np.unique(rgen.rvs(1000), return_counts = True)"
      ],
      "metadata": {
        "colab": {
          "base_uri": "https://localhost:8080/"
        },
        "id": "PPKiSXT8ehYq",
        "outputId": "4499965c-bf96-4465-de93-cf35463b4187"
      },
      "execution_count": null,
      "outputs": [
        {
          "output_type": "execute_result",
          "data": {
            "text/plain": [
              "(array([0, 1, 2, 3, 4, 5, 6, 7, 8, 9]),\n",
              " array([ 85, 113, 118, 105,  93,  86, 110,  93,  96, 101]))"
            ]
          },
          "metadata": {},
          "execution_count": 28
        }
      ]
    },
    {
      "cell_type": "code",
      "source": [
        "from sklearn.model_selection import RandomizedSearchCV\n",
        "# p.254\n",
        "params = {\n",
        "    'min_impurity_decrease' : uniform(0.0001, 0.001),\n",
        "    'max_depth': randint(20, 50),\n",
        "    'min_samples_split' : randint(2, 25),\n",
        "    'min_samples_leaf' : randint(1, 25),\n",
        "}\n",
        "gs = RandomizedSearchCV(DecisionTreeClassifier(random_state=42), params, n_iter=100, n_jobs=-1, random_state=42)\n",
        "\n",
        "gs.fit(train_input, train_target)"
      ],
      "metadata": {
        "colab": {
          "base_uri": "https://localhost:8080/"
        },
        "id": "XZAsYf88eyPT",
        "outputId": "082a9d2c-7907-45cd-87de-290c683d7f68"
      },
      "execution_count": null,
      "outputs": [
        {
          "output_type": "execute_result",
          "data": {
            "text/plain": [
              "RandomizedSearchCV(estimator=DecisionTreeClassifier(random_state=42),\n",
              "                   n_iter=100, n_jobs=-1,\n",
              "                   param_distributions={'max_depth': <scipy.stats._distn_infrastructure.rv_frozen object at 0x7fd6be9fec90>,\n",
              "                                        'min_impurity_decrease': <scipy.stats._distn_infrastructure.rv_frozen object at 0x7fd6be0d64d0>,\n",
              "                                        'min_samples_leaf': <scipy.stats._distn_infrastructure.rv_frozen object at 0x7fd6be0f7cd0>,\n",
              "                                        'min_samples_split': <scipy.stats._distn_infrastructure.rv_frozen object at 0x7fd6be0d1990>},\n",
              "                   random_state=42)"
            ]
          },
          "metadata": {},
          "execution_count": 33
        }
      ]
    },
    {
      "cell_type": "code",
      "source": [
        "print(gs.best_params_)"
      ],
      "metadata": {
        "colab": {
          "base_uri": "https://localhost:8080/"
        },
        "id": "09FI7Ixvflca",
        "outputId": "881dbae4-c88e-4bbc-cccd-4923ee6e651c"
      },
      "execution_count": null,
      "outputs": [
        {
          "output_type": "stream",
          "name": "stdout",
          "text": [
            "{'max_depth': 39, 'min_impurity_decrease': 0.00034102546602601173, 'min_samples_leaf': 7, 'min_samples_split': 13}\n"
          ]
        }
      ]
    },
    {
      "cell_type": "code",
      "source": [
        "print(np.max(gs.cv_results_['mean_test_score']))"
      ],
      "metadata": {
        "colab": {
          "base_uri": "https://localhost:8080/"
        },
        "id": "bQ775--jfcYz",
        "outputId": "5cdac4a0-6156-4e14-d1cc-fc35292d6acd"
      },
      "execution_count": null,
      "outputs": [
        {
          "output_type": "stream",
          "name": "stdout",
          "text": [
            "0.8695428296438884\n"
          ]
        }
      ]
    },
    {
      "cell_type": "code",
      "source": [
        "dt = gs.best_estimator_\n",
        "print(dt.score(test_input, test_target))"
      ],
      "metadata": {
        "colab": {
          "base_uri": "https://localhost:8080/"
        },
        "id": "BCXGjUy0hRRq",
        "outputId": "a885a780-5baf-4f95-a159-95e163d50a1e"
      },
      "execution_count": null,
      "outputs": [
        {
          "output_type": "stream",
          "name": "stdout",
          "text": [
            "0.86\n"
          ]
        }
      ]
    },
    {
      "cell_type": "markdown",
      "source": [
        "# References : \n",
        "- 혼자 공부하는 머신러닝+딥러닝 p. 242 ~ 262\n",
        "- Hyperparameter (machine learning) - Wikipedia : https://en.wikipedia.org/wiki/Hyperparameter_(machine_learning)\n",
        "- RandomizedSearchCV : https://scikit-learn.org/stable/modules/generated/sklearn.model_selection.RandomizedSearchCV.html"
      ],
      "metadata": {
        "id": "CrcS2yK8lfxn"
      }
    }
  ]
}