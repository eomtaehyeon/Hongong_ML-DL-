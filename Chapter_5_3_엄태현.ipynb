{
  "nbformat": 4,
  "nbformat_minor": 0,
  "metadata": {
    "colab": {
      "name": "Chapter_5_3.ipynb",
      "provenance": [],
      "collapsed_sections": [],
      "toc_visible": true,
      "authorship_tag": "ABX9TyNOf8HLZLdbtDQgQ/qfeify",
      "include_colab_link": true
    },
    "kernelspec": {
      "name": "python3",
      "display_name": "Python 3"
    },
    "language_info": {
      "name": "python"
    }
  },
  "cells": [
    {
      "cell_type": "markdown",
      "metadata": {
        "id": "view-in-github",
        "colab_type": "text"
      },
      "source": [
        "<a href=\"https://colab.research.google.com/github/eomtaehyeon/Hongong_ML-DL-/blob/main/Chapter_5_3_%EC%97%84%ED%83%9C%ED%98%84.ipynb\" target=\"_parent\"><img src=\"https://colab.research.google.com/assets/colab-badge.svg\" alt=\"Open In Colab\"/></a>"
      ]
    },
    {
      "cell_type": "markdown",
      "source": [
        "# 5 - 3 트리의 앙상블\n",
        "- LightGBM 기억!!\n",
        "  + GBM --> XGBoost --> LightGBM\n",
        "  + 참고 1. 모델개발속도가 빨라졌나?\n",
        "  + 참고 2. 모델의 성능이 좋아졌나?\n",
        "- TabNet(2019)\n",
        "  + 딥러닝 컨셉!\n",
        "\n",
        "\n",
        "\n"
      ],
      "metadata": {
        "id": "g5HDQ6YUjMC0"
      }
    },
    {
      "cell_type": "markdown",
      "source": [
        "## 랜덤 포레스트(Random Forest)\n",
        "- 결정 트리 나무를 500개 심기\n",
        "- 최종적인 결정은 투표 방식\n",
        "  + 나무-1 : 양성\n",
        "  + 나무-2 : 양성\n",
        "  + 나무-3 : 음성\n",
        "  ...\n",
        "  + 나무-500 : 음성"
      ],
      "metadata": {
        "id": "VOSxAOLdoD3h"
      }
    },
    {
      "cell_type": "code",
      "execution_count": 1,
      "metadata": {
        "id": "NNUjIcuRjKif"
      },
      "outputs": [],
      "source": [
        "import numpy as np\n",
        "import pandas as pd\n",
        "from sklearn.model_selection import train_test_split\n",
        "\n",
        "wine = pd.read_csv('https://bit.ly/wine_csv_data')\n",
        "\n",
        "data = wine[['alcohol', 'sugar', 'pH']].to_numpy()\n",
        "target = wine['class'].to_numpy()\n",
        "\n",
        "train_input, test_input, train_target, test_target = train_test_split(data, \n",
        "                                                                      target, \n",
        "                                                                      test_size=0.2, \n",
        "                                                                      random_state=42)"
      ]
    },
    {
      "cell_type": "markdown",
      "source": [
        "- cross_validate() 교차 검증 수행\n",
        "- n_jobs = -1 모든 CPU 코어를 사용.\n",
        "- return_train_score = True : 검증 점수뿐만 아니라 훈련세트에 대한 점수도 반환.\n",
        "  + 기본값 : False\n",
        "  "
      ],
      "metadata": {
        "id": "ZmrNlym2pN0S"
      }
    },
    {
      "cell_type": "code",
      "source": [
        "%%time\n",
        "from sklearn.model_selection import cross_validate\n",
        "from sklearn.ensemble import RandomForestClassifier\n",
        "rf = RandomForestClassifier(n_jobs=-1, random_state=42)\n",
        "scores = cross_validate(rf, train_input, train_target, return_train_score = True, n_jobs=-1)\n",
        "\n",
        "print(np.mean(scores['train_score']), np.mean(scores['test_score']))"
      ],
      "metadata": {
        "colab": {
          "base_uri": "https://localhost:8080/"
        },
        "id": "XGbgr-kgpYRZ",
        "outputId": "6ab5ccbd-dea9-4b15-f82a-164b0e0648b8"
      },
      "execution_count": 2,
      "outputs": [
        {
          "output_type": "stream",
          "name": "stdout",
          "text": [
            "0.9973541965122431 0.8905151032797809\n",
            "CPU times: user 235 ms, sys: 63 ms, total: 298 ms\n",
            "Wall time: 5.74 s\n"
          ]
        }
      ]
    },
    {
      "cell_type": "code",
      "source": [
        "rf.fit(train_input, train_target)\n",
        "print(rf.feature_importances_)"
      ],
      "metadata": {
        "colab": {
          "base_uri": "https://localhost:8080/"
        },
        "id": "W5NiiFckqPdR",
        "outputId": "c01cc8aa-056b-4546-f383-8d760abb0745"
      },
      "execution_count": 3,
      "outputs": [
        {
          "output_type": "stream",
          "name": "stdout",
          "text": [
            "[0.23167441 0.50039841 0.26792718]\n"
          ]
        }
      ]
    },
    {
      "cell_type": "markdown",
      "source": [
        "- 결정트리에서 만든 특성 중요도와 비교\n",
        " [0.12345626 0.86862934 0.0079144 ]\n",
        ": 당도의 중요도가 감소하고 알코올 도수와 pH특성의 중요도가 조금 상승"
      ],
      "metadata": {
        "id": "fKG5lI2sqUz7"
      }
    },
    {
      "cell_type": "code",
      "source": [
        "rf= RandomForestClassifier(oob_score = True, n_jobs=-1, random_state=42)\n",
        "rf.fit(train_input, train_target)\n",
        "print(rf.oob_score_)"
      ],
      "metadata": {
        "colab": {
          "base_uri": "https://localhost:8080/"
        },
        "id": "7y12LG4Hqkt8",
        "outputId": "2a56ca89-0dcb-471c-8e45-1243d9d9992f"
      },
      "execution_count": 4,
      "outputs": [
        {
          "output_type": "stream",
          "name": "stdout",
          "text": [
            "0.8934000384837406\n"
          ]
        }
      ]
    },
    {
      "cell_type": "markdown",
      "source": [
        "- 랜덤 포레스트는 훈련 세트에서 중복을 허용하여 부트스트랩 샘플을 만들어 결정 트리를 훈련.\n",
        "- OOB샘플 : 부트스트랩 샘플에 포함되지 않고 남는 샘플. 검증 세트의 역할"
      ],
      "metadata": {
        "id": "YCRzdZ-NqPsy"
      }
    },
    {
      "cell_type": "markdown",
      "source": [
        "## 엑스트라 트리(Extra Trees)\n",
        "- 랜덤포레스트와 매우 비슷하게 동작. 기본적으로 100개의 결정트리훈련.\n",
        "- 부트스트랩 샘플을 사용하지 않음\n",
        "- 랜덤포레스트와 비슷한 결과를 얻음.\n",
        "- 계산속도가 빠르다.\n"
      ],
      "metadata": {
        "id": "LTonP4A7reFi"
      }
    },
    {
      "cell_type": "code",
      "source": [
        "%%time\n",
        "from sklearn.ensemble import ExtraTreesClassifier\n",
        "et = ExtraTreesClassifier(n_jobs=-1, random_state=42)\n",
        "scores = cross_validate(et, train_input, train_target, return_train_score = True, n_jobs=-1)\n",
        "\n",
        "print(np.mean(scores['train_score']), np.mean(scores['test_score']))"
      ],
      "metadata": {
        "colab": {
          "base_uri": "https://localhost:8080/"
        },
        "id": "qaLvwYrSsjjB",
        "outputId": "3ef7ecad-3b84-40ad-d9c3-8a1e1f7c1123"
      },
      "execution_count": 5,
      "outputs": [
        {
          "output_type": "stream",
          "name": "stdout",
          "text": [
            "0.9974503966084433 0.8887848893166506\n",
            "CPU times: user 62.5 ms, sys: 6.17 ms, total: 68.6 ms\n",
            "Wall time: 4.53 s\n"
          ]
        }
      ]
    },
    {
      "cell_type": "code",
      "source": [
        "et.fit(train_input, train_target)\n",
        "print(et.feature_importances_)"
      ],
      "metadata": {
        "colab": {
          "base_uri": "https://localhost:8080/"
        },
        "id": "KLIUEln6thG4",
        "outputId": "0b327330-cff5-4f25-dd1d-1723aa42bbb6"
      },
      "execution_count": 6,
      "outputs": [
        {
          "output_type": "stream",
          "name": "stdout",
          "text": [
            "[0.20183568 0.52242907 0.27573525]\n"
          ]
        }
      ]
    },
    {
      "cell_type": "markdown",
      "source": [
        "## 그레이디언트 부스팅(Gradient Boosting)\n",
        "- 경사하강법을 사용하여 트리를 앙상블에 추가\n",
        "- 이전 트리의 오차를 보완하는 방식으로 사용.\n",
        "- 깊이가 얕은 트리를 사용. 과대적합에 강함.\n",
        "- 학습률 매개변수로 속도를 조절.\n",
        "- 단점 : 속도가 느림."
      ],
      "metadata": {
        "id": "Ubx-LocasX9z"
      }
    },
    {
      "cell_type": "code",
      "source": [
        "# 기본적으로 깊이 3 결정트리 100개 learning_rate : 0.1\n",
        "%%time\n",
        "from sklearn.ensemble import GradientBoostingClassifier\n",
        "gb = GradientBoostingClassifier(random_state=42)\n",
        "scores = cross_validate(gb, train_input, train_target, return_train_score = True, n_jobs=-1)\n",
        "\n",
        "print(np.mean(scores['train_score']), np.mean(scores['test_score']))\n",
        "gb.fit(train_input, train_target)\n",
        "print(gb.feature_importances_)"
      ],
      "metadata": {
        "colab": {
          "base_uri": "https://localhost:8080/"
        },
        "id": "4Ef3ObrFsXHp",
        "outputId": "0565471c-a4e3-4b50-8450-e5d18dba0991"
      },
      "execution_count": 7,
      "outputs": [
        {
          "output_type": "stream",
          "name": "stdout",
          "text": [
            "0.8881086892152563 0.8720430147331015\n",
            "[0.11949946 0.74871836 0.13178218]\n",
            "CPU times: user 673 ms, sys: 6.92 ms, total: 680 ms\n",
            "Wall time: 6.07 s\n"
          ]
        }
      ]
    },
    {
      "cell_type": "code",
      "source": [
        "# 결정트리 500개, learning_rate : 0.2\n",
        "%%time\n",
        "from sklearn.ensemble import GradientBoostingClassifier\n",
        "gb = GradientBoostingClassifier(n_estimators = 500, learning_rate = 0.2, random_state=42)\n",
        "scores = cross_validate(gb, train_input, train_target, return_train_score = True, n_jobs=-1)\n",
        "\n",
        "print(np.mean(scores['train_score']), np.mean(scores['test_score']))"
      ],
      "metadata": {
        "colab": {
          "base_uri": "https://localhost:8080/"
        },
        "id": "dga1t1ottXYa",
        "outputId": "07526fb9-3b65-4faf-ffce-89dbd8c8bbca"
      },
      "execution_count": 8,
      "outputs": [
        {
          "output_type": "stream",
          "name": "stdout",
          "text": [
            "0.9464595437171814 0.8780082549788999\n",
            "CPU times: user 180 ms, sys: 18 ms, total: 198 ms\n",
            "Wall time: 22.8 s\n"
          ]
        }
      ]
    },
    {
      "cell_type": "code",
      "source": [
        "gb.fit(train_input, train_target)\n",
        "print(gb.feature_importances_)"
      ],
      "metadata": {
        "colab": {
          "base_uri": "https://localhost:8080/"
        },
        "id": "e3GbM6mswBm_",
        "outputId": "cdc80086-643b-495b-83d0-f87a30ed90b7"
      },
      "execution_count": 9,
      "outputs": [
        {
          "output_type": "stream",
          "name": "stdout",
          "text": [
            "[0.15872278 0.68010884 0.16116839]\n"
          ]
        }
      ]
    },
    {
      "cell_type": "markdown",
      "source": [
        "- 결정 트리와 학습률을 늘렸지만 과대적합을 잘 억제함...\n",
        "- 특성 중요도는 당도에 더 집중함.\n",
        "- n_jobs 매개변수가 없음."
      ],
      "metadata": {
        "id": "xl8VquHrul-Y"
      }
    },
    {
      "cell_type": "markdown",
      "source": [
        "## 히스토그램 기반 그레이디언트 부스팅(Histogram-based Gradient Boosting)\n",
        "- 입력 특성을 256개 구간으로 나눔. 노드분할할 때 빠름.\n",
        "- 기본 매개변수에서 안정적인 성능을 얻음.\n",
        "- n_estimators 대신에 max_iter를 사용해 부스팅 반복 횟수 지정."
      ],
      "metadata": {
        "id": "eIp0DqQOwq5e"
      }
    },
    {
      "cell_type": "code",
      "source": [
        "# n_repeats 기본값 5\n",
        "\n",
        "%%time\n",
        "from sklearn.experimental import enable_hist_gradient_boosting\n",
        "from sklearn.ensemble import HistGradientBoostingClassifier\n",
        "hgb = HistGradientBoostingClassifier(random_state=42)\n",
        "scores = cross_validate(hgb, train_input, train_target,\n",
        "                        return_train_score=True)\n",
        "print(np.mean(scores['train_score']), np.mean(scores['test_score']))\n"
      ],
      "metadata": {
        "colab": {
          "base_uri": "https://localhost:8080/"
        },
        "id": "11uG7Cl_x-Cu",
        "outputId": "58010f81-9624-4908-a65c-0cde48c20c0a"
      },
      "execution_count": 10,
      "outputs": [
        {
          "output_type": "stream",
          "name": "stderr",
          "text": [
            "/usr/local/lib/python3.7/dist-packages/sklearn/experimental/enable_hist_gradient_boosting.py:17: UserWarning: Since version 1.0, it is not needed to import enable_hist_gradient_boosting anymore. HistGradientBoostingClassifier and HistGradientBoostingRegressor are now stable and can be normally imported from sklearn.ensemble.\n",
            "  \"Since version 1.0, \"\n"
          ]
        },
        {
          "output_type": "stream",
          "name": "stdout",
          "text": [
            "0.9321723946453317 0.8801241948619236\n",
            "CPU times: user 4.26 s, sys: 157 ms, total: 4.42 s\n",
            "Wall time: 2.35 s\n"
          ]
        }
      ]
    },
    {
      "cell_type": "code",
      "source": [
        "# permutation_importance() 함수 사용.\n",
        "# n_repeats = 10\n",
        "%%time\n",
        "from sklearn.inspection import permutation_importance\n",
        "\n",
        "hgb.fit(train_input, train_target)\n",
        "result = permutation_importance(hgb, train_input, train_target,\n",
        "                                n_repeats=10, random_state=42, n_jobs=-1)\n",
        "print(hgb.score(train_input, train_target))\n",
        "print(result.importances_mean)"
      ],
      "metadata": {
        "colab": {
          "base_uri": "https://localhost:8080/"
        },
        "id": "kJyl-T3Xy3Rk",
        "outputId": "277ad96f-e0d4-4e3e-c782-fc0ab6701343"
      },
      "execution_count": 16,
      "outputs": [
        {
          "output_type": "stream",
          "name": "stdout",
          "text": [
            "0.924956705791803\n",
            "[0.08876275 0.23438522 0.08027708]\n",
            "CPU times: user 5.46 s, sys: 56.8 ms, total: 5.52 s\n",
            "Wall time: 10.6 s\n"
          ]
        }
      ]
    },
    {
      "cell_type": "code",
      "source": [
        "result = permutation_importance(hgb, test_input, test_target,\n",
        "                                n_repeats=10, random_state=42, n_jobs=-1)\n",
        "print(result.importances_mean)"
      ],
      "metadata": {
        "colab": {
          "base_uri": "https://localhost:8080/"
        },
        "id": "RTTNomsT0VED",
        "outputId": "96dfd767-026a-4e6a-c121-cca493364b64"
      },
      "execution_count": 12,
      "outputs": [
        {
          "output_type": "stream",
          "name": "stdout",
          "text": [
            "[0.05969231 0.20238462 0.049     ]\n"
          ]
        }
      ]
    },
    {
      "cell_type": "code",
      "source": [
        "hgb.score(test_input, test_target)"
      ],
      "metadata": {
        "colab": {
          "base_uri": "https://localhost:8080/"
        },
        "id": "j-B8BZfj0_fb",
        "outputId": "2a2caf3e-e9ea-4a05-e350-9e9b14f6e94d"
      },
      "execution_count": 13,
      "outputs": [
        {
          "output_type": "execute_result",
          "data": {
            "text/plain": [
              "0.8723076923076923"
            ]
          },
          "metadata": {},
          "execution_count": 13
        }
      ]
    },
    {
      "cell_type": "markdown",
      "source": [
        "### XGBoost\n",
        "- https://xgboost.ai/about"
      ],
      "metadata": {
        "id": "sHJ44FDQ3J06"
      }
    },
    {
      "cell_type": "code",
      "source": [
        "%%time\n",
        "from xgboost import XGBClassifier\n",
        "xgb = XGBClassifier(tree_method='hist', random_state=42)\n",
        "scores = cross_validate(xgb, train_input, train_target,\n",
        "                        return_train_score=True)\n",
        "print(np.mean(scores['train_score']), np.mean(scores['test_score']))\n",
        "xgb.fit(train_input, train_target)\n",
        "print(xgb.feature_importances_)"
      ],
      "metadata": {
        "colab": {
          "base_uri": "https://localhost:8080/"
        },
        "id": "bA2g4mv01QCL",
        "outputId": "df649d8a-dc23-41ba-81cd-9d30ae3ba15a"
      },
      "execution_count": 14,
      "outputs": [
        {
          "output_type": "stream",
          "name": "stdout",
          "text": [
            "0.8824322471423747 0.8726214185237284\n",
            "[0.20026451 0.6175567  0.18217881]\n",
            "CPU times: user 537 ms, sys: 26.9 ms, total: 564 ms\n",
            "Wall time: 563 ms\n"
          ]
        }
      ]
    },
    {
      "cell_type": "markdown",
      "source": [
        "### LightGBM\n",
        "- https://github.com/microsoft/lightgbm"
      ],
      "metadata": {
        "id": "RLTqq-fF3Ts6"
      }
    },
    {
      "cell_type": "code",
      "source": [
        "%%time\n",
        "from lightgbm import LGBMClassifier\n",
        "lgb = LGBMClassifier(random_state= 42)\n",
        "scores = cross_validate(lgb, train_input, train_target, \n",
        "                        return_train_score=True, n_jobs=-1)\n",
        "print(np.mean(scores['train_score']), np.mean(scores['test_score']))\n",
        "lgb.fit(train_input, train_target)\n",
        "print(lgb.feature_importances_)"
      ],
      "metadata": {
        "colab": {
          "base_uri": "https://localhost:8080/"
        },
        "id": "mTS03EkM18Tq",
        "outputId": "d4fdb1f2-b031-46cc-bd7c-92109f8fd6bc"
      },
      "execution_count": 15,
      "outputs": [
        {
          "output_type": "stream",
          "name": "stdout",
          "text": [
            "0.9338079582727165 0.8789710890649293\n",
            "[ 947  991 1062]\n",
            "CPU times: user 125 ms, sys: 6.13 ms, total: 131 ms\n",
            "Wall time: 1.28 s\n"
          ]
        }
      ]
    },
    {
      "cell_type": "markdown",
      "source": [
        "## 비교\n",
        "- RandomForest(기본값) :\n",
        "  + 0.9973541965122431 0.8905151032797809\n",
        "  + [0.23167441 0.50039841 0.26792718]\n",
        "  + CPU times: user 197 ms, sys: 46.4 ms, total: 243 ms\n",
        "  + Wall time: 5.67 s\n",
        "- ExtraTrees :\n",
        "  + 0.9974503966084433 0.8887848893166506\n",
        "  + [0.20183568 0.52242907 0.27573525]\n",
        "  + CPU times: user 60.3 ms, sys: 8.35 ms, total: 68.7 ms\n",
        "  + Wall time: 3.67 s\n",
        "- GradientBoosting(기본값) : \n",
        "  + 0.8881086892152563 0.8720430147331015\n",
        "  + [0.11949946 0.74871836 0.13178218]\n",
        "  + CPU times: user 658 ms, sys: 7.5 ms, total: 665 ms\n",
        "  + Wall time: 3.79 s\n",
        "- GradientBoosting(결정트리 500개, learning_rate : 0.2) :\n",
        "  + 0.9464595437171814 0.8780082549788999\n",
        "  + [0.15872278 0.68010884 0.16116839]\n",
        "  + CPU times: user 122 ms, sys: 12.6 ms, total: 134 ms\n",
        "  + Wall time: 14 s\n",
        "- Histogram-basedGradientBoosting :\n",
        "  + 0.9321723946453317 0.8801241948619236\n",
        "  + CPU times: user 4 s, sys: 170 ms, total: 4.17 s\n",
        "  + Wall time: 2.17 s\n",
        "- Histogram-basedGradientBoosting(n_repeats=10) : \n",
        "  + 0.924956705791803 0.8723076923076923\n",
        "  + [0.08876275 0.23438522 0.08027708]\n",
        "  + CPU times: user 5.46 s, sys: 56.8 ms, total: 5.52 s\n",
        "  + Wall time: 10.6 s\n",
        "- XGBoost :\n",
        "  + 0.8824322471423747 0.8726214185237284\n",
        "  + [0.20026451 0.6175567  0.18217881]\n",
        "  + CPU times: user 573 ms, sys: 29.9 ms, total: 603 ms\n",
        "  + Wall time: 607 ms\n",
        "- LightGBM :\n",
        "  + 0.9338079582727165 0.8789710890649293\n",
        "  + [ 947  991 1062]\n",
        "  + CPU times: user 130 ms, sys: 11.1 ms, total: 141 ms\n",
        "  + Wall time: 1.47 s"
      ],
      "metadata": {
        "id": "xgI6tr8G8aje"
      }
    },
    {
      "cell_type": "code",
      "source": [
        "import matplotlib.pyplot as plt\n",
        "import numpy as np\n",
        "\n",
        "name = ['RF','ET','GB','GB(500,0.2)','HGB','HGB(10)','XGB','LGBM']\n",
        "train_score = [0.9973541965122431, 0.9974503966084433, 0.8881086892152563, 0.9464595437171814, 0.9321723946453317, 0.924956705791803, 0.8824322471423747, 0.9338079582727165]\n",
        "test_score = [0.8905151032797809, 0.8887848893166506, 0.8720430147331015, 0.8780082549788999, 0.8801241948619236, 0.8723076923076923, 0.8726214185237284, 0.8789710890649293]\n",
        "\n",
        "x = np.arange(len(name))   # the label locations\n",
        "width = 0.35   # the width of the bars\n",
        "\n",
        "fig, ax = plt.subplots()\n",
        "rects1 = ax.bar(x - width/3, train_score, width, label='train_score')\n",
        "rects2 = ax.bar(x + width/3, test_score, width, label='test_score')\n",
        "ax.set_xlabel('name')\n",
        "ax.set_ylabel('score')\n",
        "\n",
        "ax.legend()\n",
        "\n",
        "plt.show()\n",
        "print(name)"
      ],
      "metadata": {
        "colab": {
          "base_uri": "https://localhost:8080/",
          "height": 297
        },
        "id": "4WKuGrWGDH9C",
        "outputId": "af695fa9-0c7e-41f8-e31d-91f937a88b4f"
      },
      "execution_count": 59,
      "outputs": [
        {
          "output_type": "display_data",
          "data": {
            "text/plain": [
              "<Figure size 432x288 with 1 Axes>"
            ],
            "image/png": "[encoded data removed]"
          },
          "metadata": {
            "needs_background": "light"
          }
        },
        {
          "output_type": "stream",
          "name": "stdout",
          "text": [
            "['RF', 'ET', 'GB', 'GB(500,0.2)', 'HGB', 'HGB(10)', 'XGB', 'LGBM']\n"
          ]
        }
      ]
    },
    {
      "cell_type": "markdown",
      "source": [
        "# Reference :     \n",
        "- XGBoost/about : https://xgboost.ai/about\n",
        "- LightGBM : https://github.com/microsoft/lightgbm"
      ],
      "metadata": {
        "id": "jPCcbOlk3BbZ"
      }
    },
    {
      "cell_type": "code",
      "source": [
        ""
      ],
      "metadata": {
        "id": "8_9I8HbRB-hU"
      },
      "execution_count": null,
      "outputs": []
    }
  ]
}