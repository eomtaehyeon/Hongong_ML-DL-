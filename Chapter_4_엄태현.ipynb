{
  "nbformat": 4,
  "nbformat_minor": 0,
  "metadata": {
    "colab": {
      "name": "Chapter_4_엄태현.ipynb",
      "provenance": [],
      "collapsed_sections": [],
      "toc_visible": true,
      "include_colab_link": true
    },
    "kernelspec": {
      "name": "python3",
      "display_name": "Python 3"
    },
    "language_info": {
      "name": "python"
    }
  },
  "cells": [
    {
      "cell_type": "markdown",
      "metadata": {
        "id": "view-in-github",
        "colab_type": "text"
      },
      "source": [
        "<a href=\"https://colab.research.google.com/github/eomtaehyeon/Hongong_ML-DL-/blob/main/Chapter_4_%EC%97%84%ED%83%9C%ED%98%84.ipynb\" target=\"_parent\"><img src=\"https://colab.research.google.com/assets/colab-badge.svg\" alt=\"Open In Colab\"/></a>"
      ]
    },
    {
      "cell_type": "markdown",
      "source": [
        "# 4장 다양한 분류 알고리즘\n",
        "- 럭키백의 확률을 계산하라!"
      ],
      "metadata": {
        "id": "SZc5U_plwOWo"
      }
    },
    {
      "cell_type": "markdown",
      "source": [
        "# 4 - 1 로지스틱 회귀\n",
        "- 로지스틱 회귀 알고리즘을 배우고 이진 분류 문제에서 클래스 확률을 예측."
      ],
      "metadata": {
        "id": "ikUtX_fGwSWH"
      }
    },
    {
      "cell_type": "markdown",
      "source": [
        "## 럭키백의 확률"
      ],
      "metadata": {
        "id": "83OSDOkewr4m"
      }
    },
    {
      "cell_type": "markdown",
      "source": [
        "### 데이터 준비"
      ],
      "metadata": {
        "id": "3aAS366cwz8f"
      }
    },
    {
      "cell_type": "code",
      "execution_count": null,
      "metadata": {
        "id": "mBq_7Z0svTIi"
      },
      "outputs": [],
      "source": [
        "import pandas as pd\n",
        "\n",
        "fish = pd.read_csv('https://bit.ly/fish_csv_data')\n",
        "fish.head()"
      ]
    },
    {
      "cell_type": "code",
      "source": [
        "# 어떤 종류의 생선이 있는지 unique() 함수 이용\n",
        "print(pd.unique(fish['Species']))"
      ],
      "metadata": {
        "colab": {
          "base_uri": "https://localhost:8080/"
        },
        "id": "hYVIXjIqxrmY",
        "outputId": "f265c2b3-6c14-4aa3-a1b0-537366e73708"
      },
      "execution_count": null,
      "outputs": [
        {
          "output_type": "stream",
          "name": "stdout",
          "text": [
            "['Bream' 'Roach' 'Whitefish' 'Parkki' 'Perch' 'Pike' 'Smelt']\n"
          ]
        }
      ]
    },
    {
      "cell_type": "markdown",
      "source": [
        "### 데이터 변환"
      ],
      "metadata": {
        "id": "e4ZKFEJT3xYW"
      }
    },
    {
      "cell_type": "markdown",
      "source": [
        "- input 배열로 변환\n",
        "- 독립변수"
      ],
      "metadata": {
        "id": "SHsf42JK3a8X"
      }
    },
    {
      "cell_type": "code",
      "source": [
        "fish_input = fish[['Weight', 'Length','Diagonal','Height','Width']].to_numpy()\n",
        "print(fish_input[:5])"
      ],
      "metadata": {
        "colab": {
          "base_uri": "https://localhost:8080/"
        },
        "id": "zJVRH5JHyBEi",
        "outputId": "c13ccb9d-2ca7-4eea-8473-c50c7e3b46f4"
      },
      "execution_count": null,
      "outputs": [
        {
          "output_type": "stream",
          "name": "stdout",
          "text": [
            "[[242.      25.4     30.      11.52     4.02  ]\n",
            " [290.      26.3     31.2     12.48     4.3056]\n",
            " [340.      26.5     31.1     12.3778   4.6961]\n",
            " [363.      29.      33.5     12.73     4.4555]\n",
            " [430.      29.      34.      12.444    5.134 ]]\n"
          ]
        }
      ]
    },
    {
      "cell_type": "markdown",
      "source": [
        "- target 배열로 변환\n",
        "- 종속변수"
      ],
      "metadata": {
        "id": "6PI5h7Jx3gb3"
      }
    },
    {
      "cell_type": "code",
      "source": [
        "fish_target = fish['Species'].to_numpy()"
      ],
      "metadata": {
        "id": "BXmlCH1LzIaY"
      },
      "execution_count": null,
      "outputs": []
    },
    {
      "cell_type": "markdown",
      "source": [
        "### 훈련 데이터와 테스트 데이터 "
      ],
      "metadata": {
        "id": "rnXTy6B2wD84"
      }
    },
    {
      "cell_type": "code",
      "source": [
        "from sklearn.model_selection import train_test_split\n",
        "train_input, test_input, train_target, test_target = train_test_split(\n",
        "    fish_input, fish_target, random_state=42\n",
        ")"
      ],
      "metadata": {
        "id": "R7ZajKQ04BQ2"
      },
      "execution_count": null,
      "outputs": []
    },
    {
      "cell_type": "markdown",
      "source": [
        "- 표준화 전처리\n",
        "  + 무게, 길이 등 단위가 달라서 통일이 필요"
      ],
      "metadata": {
        "id": "Vo4p_vg44yU-"
      }
    },
    {
      "cell_type": "code",
      "source": [
        "from sklearn.preprocessing import StandardScaler\n",
        "ss = StandardScaler()\n",
        "ss.fit(train_input)\n",
        "train_scaled = ss.transform(train_input)\n",
        "test_scaled = ss.transform(test_input)"
      ],
      "metadata": {
        "id": "_wrbNEz_5HgW"
      },
      "execution_count": null,
      "outputs": []
    },
    {
      "cell_type": "code",
      "source": [
        "# 확인\n",
        "# print(train_input[:5])\n",
        "# print(train_scaled[:5])\n",
        "# print(test_scaled[:5])"
      ],
      "metadata": {
        "id": "meTYAYb751Dm"
      },
      "execution_count": null,
      "outputs": []
    },
    {
      "cell_type": "markdown",
      "source": [
        "### k-최근접 이웃 분류기의 확률 예측"
      ],
      "metadata": {
        "id": "GyVJXZX26Hfu"
      }
    },
    {
      "cell_type": "code",
      "source": [
        "from sklearn.neighbors import KNeighborsClassifier\n",
        "\n",
        "kn = KNeighborsClassifier(n_neighbors=3)\n",
        "kn.fit(train_scaled, train_target)\n",
        "\n",
        "print(kn.score(train_scaled, train_target))\n",
        "print(kn.score(test_scaled, test_target))"
      ],
      "metadata": {
        "colab": {
          "base_uri": "https://localhost:8080/"
        },
        "id": "W7incFO46RC2",
        "outputId": "e8335f5d-62b9-4c8d-e75f-5d06b5c8bdcf"
      },
      "execution_count": null,
      "outputs": [
        {
          "output_type": "stream",
          "name": "stdout",
          "text": [
            "0.8907563025210085\n",
            "0.85\n"
          ]
        }
      ]
    },
    {
      "cell_type": "markdown",
      "source": [
        "- 다중분류(multi-class classification) : 타깃 데이터에 2개 이상의 클래스가 포함\n",
        "- 사이킷런에서는 문자열로 된 타깃값을 그대로 사용가능\n",
        "  + 주의 : 타깃값 순서가 알파벳 순으로 매겨짐.\n",
        "  + pd.unique(fish['Species'])로 출력했던 순서와 다름.\n",
        "- 타깃값은 classes_ 속성에 저장.\n"
      ],
      "metadata": {
        "id": "36S43xzW6mTu"
      }
    },
    {
      "cell_type": "code",
      "source": [
        "print(kn.classes_)"
      ],
      "metadata": {
        "colab": {
          "base_uri": "https://localhost:8080/"
        },
        "id": "LfiQkaaf9DtQ",
        "outputId": "2c7248ec-79fa-41cf-851b-43b7200f1e93"
      },
      "execution_count": null,
      "outputs": [
        {
          "output_type": "stream",
          "name": "stdout",
          "text": [
            "['Bream' 'Parkki' 'Perch' 'Pike' 'Roach' 'Smelt' 'Whitefish']\n"
          ]
        }
      ]
    },
    {
      "cell_type": "code",
      "source": [
        "# 테스트 세트에 샘플의 타깃값 예측\n",
        "print(kn.predict(test_scaled[:5]))"
      ],
      "metadata": {
        "colab": {
          "base_uri": "https://localhost:8080/"
        },
        "id": "pSQ-ZZwi9IX_",
        "outputId": "5bf53a52-ed20-40cc-df77-d2f06199b906"
      },
      "execution_count": null,
      "outputs": [
        {
          "output_type": "stream",
          "name": "stdout",
          "text": [
            "['Perch' 'Smelt' 'Pike' 'Perch' 'Perch']\n"
          ]
        }
      ]
    },
    {
      "cell_type": "markdown",
      "source": [
        "- predict_proba() 메서드로 클래스별 확률값을 반환.\n",
        "- 넘파이 round() 함수는 기본 소수점 첫째 자리에서 반올림.\n",
        "- decimals 매개변수로 유지할 소수점 아래 자릿수 지정 가능.\n"
      ],
      "metadata": {
        "id": "pBJQmKKs97m9"
      }
    },
    {
      "cell_type": "code",
      "source": [
        "import numpy as np\n",
        "proba = kn.predict_proba(test_scaled[:5])\n",
        "print(np.round(proba, decimals = 4))\n",
        "print(kn.classes_)"
      ],
      "metadata": {
        "colab": {
          "base_uri": "https://localhost:8080/"
        },
        "id": "FUoxHQDG94sV",
        "outputId": "2620a1f6-4841-4549-eed2-582e0449522a"
      },
      "execution_count": null,
      "outputs": [
        {
          "output_type": "stream",
          "name": "stdout",
          "text": [
            "[[0.     0.     1.     0.     0.     0.     0.    ]\n",
            " [0.     0.     0.     0.     0.     1.     0.    ]\n",
            " [0.     0.     0.     1.     0.     0.     0.    ]\n",
            " [0.     0.     0.6667 0.     0.3333 0.     0.    ]\n",
            " [0.     0.     0.6667 0.     0.3333 0.     0.    ]]\n",
            "['Bream' 'Parkki' 'Perch' 'Pike' 'Roach' 'Smelt' 'Whitefish']\n"
          ]
        }
      ]
    },
    {
      "cell_type": "code",
      "source": [
        "# 네 번째 샘플의 클래스 확인\n",
        "distances, indexes = kn.kneighbors(test_scaled[3:4])\n",
        "print(train_target[indexes])"
      ],
      "metadata": {
        "colab": {
          "base_uri": "https://localhost:8080/"
        },
        "id": "-4wDbk0893zP",
        "outputId": "abd3658f-0230-4060-d554-3c946c2fe81b"
      },
      "execution_count": null,
      "outputs": [
        {
          "output_type": "stream",
          "name": "stdout",
          "text": [
            "[['Roach' 'Perch' 'Perch']]\n"
          ]
        }
      ]
    },
    {
      "cell_type": "markdown",
      "source": [
        "## **로지스틱 회귀**\n",
        "- 로지스틱 회귀\n",
        "- 기초 통계로도 활용 (의학통계)\n",
        "- 머신러닝 분류모형의 기초 모형인데, 성능이 생각보다 나쁘지 않음\n",
        "  + 데이터셋, 수치 데이터 기반\n",
        "- 딥러닝 : 초기모형에 해당됨.\n",
        "- reference : https://www.youtube.com/watch?v=zASrGSHoqL4\n",
        "- z = a * (Weight) + b * (Length) + c * (Diagonal) + d * (Height) + e * (Width) + f\n",
        "  + 시그모이드 함수 이용 "
      ],
      "metadata": {
        "id": "e-MkZNoY_g3u"
      }
    },
    {
      "cell_type": "code",
      "source": [
        "# 시그모이드 함수 그래프\n",
        "import numpy as np\n",
        "import matplotlib.pyplot as plt\n",
        "fig, ax = plt.subplots()\n",
        "z = np.arange(-5, 5, 0.1)\n",
        "phi = 1 / (1 + np.exp(-z))\n",
        "ax.plot(z, phi)\n",
        "ax.set_xlabel('z')\n",
        "ax.set_ylabel('phi')\n",
        "plt.show()"
      ],
      "metadata": {
        "colab": {
          "base_uri": "https://localhost:8080/",
          "height": 279
        },
        "id": "fg3tu5-fMJi_",
        "outputId": "00d96c2e-b5a6-4be1-d64e-e7bbce1bee51"
      },
      "execution_count": null,
      "outputs": [
        {
          "output_type": "display_data",
          "data": {
            "text/plain": [
              "<Figure size 432x288 with 1 Axes>"
            ],
            "image/png": "[encoded data removed]"
          },
          "metadata": {
            "needs_background": "light"
          }
        }
      ]
    },
    {
      "cell_type": "markdown",
      "source": [
        "### 로지스틱 회귀로 이진 분류 수행"
      ],
      "metadata": {
        "id": "EF9mqZ9aOMRL"
      }
    },
    {
      "cell_type": "code",
      "source": [
        "# 넘파이 배열 행 선택하기\n",
        "char_arr = np.array(['A','B','C','D','E'])\n",
        "print(char_arr[[True, False, True, False, False]])"
      ],
      "metadata": {
        "colab": {
          "base_uri": "https://localhost:8080/"
        },
        "id": "dp5IQdxvOq6m",
        "outputId": "d8a6ada8-43fe-4934-f247-7d63e886b828"
      },
      "execution_count": null,
      "outputs": [
        {
          "output_type": "stream",
          "name": "stdout",
          "text": [
            "['A' 'C']\n"
          ]
        }
      ]
    },
    {
      "cell_type": "code",
      "source": [
        "# 도미와 빙어에 대한 행만 고름\n",
        "bream_smelt_indexes = (train_target == 'Bream') | (train_target == 'Smelt')\n",
        "train_bream_smelt = train_scaled[bream_smelt_indexes]\n",
        "target_bream_smelt = train_target[bream_smelt_indexes]"
      ],
      "metadata": {
        "id": "uS5VRAQpOyXH"
      },
      "execution_count": null,
      "outputs": []
    },
    {
      "cell_type": "markdown",
      "source": [
        "- bream_smelt_indexes 배열은 도미와 빙어일경우 True 아니면 False\n",
        "- LogsisticRegression 클래스에 훈련"
      ],
      "metadata": {
        "id": "6WmEQciVea8a"
      }
    },
    {
      "cell_type": "code",
      "source": [
        "from sklearn.linear_model import LogisticRegression\n",
        "lr = LogisticRegression()\n",
        "lr.fit(train_bream_smelt, target_bream_smelt)"
      ],
      "metadata": {
        "colab": {
          "base_uri": "https://localhost:8080/"
        },
        "id": "WR2MatNMf5JL",
        "outputId": "14b24f81-1b9a-4dcd-9c04-29ee385e8685"
      },
      "execution_count": null,
      "outputs": [
        {
          "output_type": "execute_result",
          "data": {
            "text/plain": [
              "LogisticRegression()"
            ]
          },
          "metadata": {},
          "execution_count": 22
        }
      ]
    },
    {
      "cell_type": "code",
      "source": [
        "# 모델을 사용해 처음 5개 샘플을 예측\n",
        "print(lr.predict(train_bream_smelt[:5]))"
      ],
      "metadata": {
        "colab": {
          "base_uri": "https://localhost:8080/"
        },
        "id": "AXdGsNH4gZZo",
        "outputId": "88e81f30-6a51-4b3b-9511-0d0991460038"
      },
      "execution_count": null,
      "outputs": [
        {
          "output_type": "stream",
          "name": "stdout",
          "text": [
            "['Bream' 'Smelt' 'Bream' 'Bream' 'Bream']\n"
          ]
        }
      ]
    },
    {
      "cell_type": "code",
      "source": [
        "# train_bream_smelt에서 처음 5개 샘플 예측 확률\n",
        "print(lr.predict_proba(train_bream_smelt[:5]))\n",
        "print(lr.classes_)"
      ],
      "metadata": {
        "colab": {
          "base_uri": "https://localhost:8080/"
        },
        "id": "hbsIM--FglrJ",
        "outputId": "ccf3db76-bf52-4557-a66f-80c707187f8c"
      },
      "execution_count": null,
      "outputs": [
        {
          "output_type": "stream",
          "name": "stdout",
          "text": [
            "[[0.99759855 0.00240145]\n",
            " [0.02735183 0.97264817]\n",
            " [0.99486072 0.00513928]\n",
            " [0.98584202 0.01415798]\n",
            " [0.99767269 0.00232731]]\n",
            "['Bream' 'Smelt']\n"
          ]
        }
      ]
    },
    {
      "cell_type": "markdown",
      "source": [
        "- 첫 번째 열이 음성클래스(0)에 대한 확률\n",
        "- 두 번째 열이 양성클래스(1)에 대한 확률\n",
        "- 빙어(smelt)가 양성 클래스"
      ],
      "metadata": {
        "id": "e7n382Nxi0LR"
      }
    },
    {
      "cell_type": "markdown",
      "source": [
        "- 로지스틱 회귀가 학습한 계수를 확인"
      ],
      "metadata": {
        "id": "SJKFuTjYgi8b"
      }
    },
    {
      "cell_type": "code",
      "source": [
        "print(lr.coef_, lr.intercept_)"
      ],
      "metadata": {
        "colab": {
          "base_uri": "https://localhost:8080/"
        },
        "id": "_0PMGwonkKGr",
        "outputId": "1adcf9d2-6faa-4aae-88ab-2d32379316e0"
      },
      "execution_count": null,
      "outputs": [
        {
          "output_type": "stream",
          "name": "stdout",
          "text": [
            "[[-0.4037798  -0.57620209 -0.66280298 -1.01290277 -0.73168947]] [-2.16155132]\n"
          ]
        }
      ]
    },
    {
      "cell_type": "markdown",
      "source": [
        "- z = -0.4037798  * (Weight) -0.57620209 * (Length) -0.66280298 * (Diagonal) -1.01290277 * (Height) -0.73168947 * (Width) -2.16155132"
      ],
      "metadata": {
        "id": "kGjq_m9tadq1"
      }
    },
    {
      "cell_type": "code",
      "source": [
        "# decision_function() 메서드로 z 값 출력\n",
        "decisions = lr.decision_function(train_bream_smelt[:5])\n",
        "print(decisions)"
      ],
      "metadata": {
        "colab": {
          "base_uri": "https://localhost:8080/"
        },
        "id": "acnyT9b0lAwj",
        "outputId": "7e9e506e-cdf2-4d9d-81bf-3832850c2532"
      },
      "execution_count": null,
      "outputs": [
        {
          "output_type": "stream",
          "name": "stdout",
          "text": [
            "[-6.02927744  3.57123907 -5.26568906 -4.24321775 -6.0607117 ]\n"
          ]
        }
      ]
    },
    {
      "cell_type": "markdown",
      "source": [
        "- z 값을 시그모이드 함수에 통과시키면 확률을 얻음.\n",
        "- 사이파이 라이브러리 expit()를 이용."
      ],
      "metadata": {
        "id": "Dfnr3rR9lQlQ"
      }
    },
    {
      "cell_type": "code",
      "source": [
        "from scipy.special import expit\n",
        "print(expit(decisions))"
      ],
      "metadata": {
        "colab": {
          "base_uri": "https://localhost:8080/"
        },
        "id": "YUuzybnelm5h",
        "outputId": "7803f6a2-1d68-47b2-d5f8-3720b93be09d"
      },
      "execution_count": null,
      "outputs": [
        {
          "output_type": "stream",
          "name": "stdout",
          "text": [
            "[0.00240145 0.97264817 0.00513928 0.01415798 0.00232731]\n"
          ]
        }
      ]
    },
    {
      "cell_type": "markdown",
      "source": [
        "- 출력된 값이 predict_proba() 메서드 출력의 두 번째 열의 값과 동일.\n",
        "- decision_function() 메서드는 양성 클래스에 대한 z값을 반환"
      ],
      "metadata": {
        "id": "eznmAHpUlrKP"
      }
    },
    {
      "cell_type": "markdown",
      "source": [
        "### 로지스틱 회귀로 다중 분류 수행\n",
        "- LogisticRegression 클래스를 사용해 7개 생선을 분류\n",
        "- vs 이진분류"
      ],
      "metadata": {
        "id": "LYGtWA6XnALx"
      }
    },
    {
      "cell_type": "code",
      "source": [
        "lr = LogisticRegression(C=20, max_iter=1000)\n",
        "lr.fit(train_scaled, train_target)\n",
        "print(lr.score(train_scaled, train_target))\n",
        "print(lr.score(test_scaled, test_target))"
      ],
      "metadata": {
        "colab": {
          "base_uri": "https://localhost:8080/"
        },
        "id": "6Uc7punen7jg",
        "outputId": "1a4a94d3-b1de-4838-d469-df4d7ceab9c7"
      },
      "execution_count": null,
      "outputs": [
        {
          "output_type": "stream",
          "name": "stdout",
          "text": [
            "0.9327731092436975\n",
            "0.925\n"
          ]
        }
      ]
    },
    {
      "cell_type": "markdown",
      "source": [
        "- 훈련 세트와 테스트 세트에 대한 점수가 높다.\n",
        "- 과대/과소로 치우지지 않음"
      ],
      "metadata": {
        "id": "1eDDLvTqouAh"
      }
    },
    {
      "cell_type": "code",
      "source": [
        "# 테스트 세트의 처음 5개 샘플 예측\n",
        "print(lr.predict(test_scaled[:5]))"
      ],
      "metadata": {
        "colab": {
          "base_uri": "https://localhost:8080/"
        },
        "id": "Cg4feNwSo8VX",
        "outputId": "61e9e052-9289-4165-9dc5-2aba7103b73b"
      },
      "execution_count": null,
      "outputs": [
        {
          "output_type": "stream",
          "name": "stdout",
          "text": [
            "['Perch' 'Smelt' 'Pike' 'Roach' 'Perch']\n"
          ]
        }
      ]
    },
    {
      "cell_type": "code",
      "source": [
        "# 테스트 세트의 처음 5개 샘플 예측확률\n",
        "proba = lr.predict_proba(test_scaled[:5])\n",
        "print(np.round(proba, decimals= 3))\n",
        "print(lr.classes_)"
      ],
      "metadata": {
        "colab": {
          "base_uri": "https://localhost:8080/"
        },
        "id": "lwlT4N6FpLIL",
        "outputId": "dcc6e872-d095-4bef-f4f2-4ab1bd2534d4"
      },
      "execution_count": null,
      "outputs": [
        {
          "output_type": "stream",
          "name": "stdout",
          "text": [
            "[[0.    0.014 0.841 0.    0.136 0.007 0.003]\n",
            " [0.    0.003 0.044 0.    0.007 0.946 0.   ]\n",
            " [0.    0.    0.034 0.935 0.015 0.016 0.   ]\n",
            " [0.011 0.034 0.306 0.007 0.567 0.    0.076]\n",
            " [0.    0.    0.904 0.002 0.089 0.002 0.001]]\n",
            "['Bream' 'Parkki' 'Perch' 'Pike' 'Roach' 'Smelt' 'Whitefish']\n"
          ]
        }
      ]
    },
    {
      "cell_type": "markdown",
      "source": [
        "- 다중 분류일 경우 선형 방정식은 어떤 모습?"
      ],
      "metadata": {
        "id": "t1jFK4frphba"
      }
    },
    {
      "cell_type": "code",
      "source": [
        "print(lr.coef_.shape, lr.intercept_.shape)"
      ],
      "metadata": {
        "colab": {
          "base_uri": "https://localhost:8080/"
        },
        "id": "Y0_9ZepEqf53",
        "outputId": "9d0969d6-309e-43ee-fd47-6672b8d21cab"
      },
      "execution_count": null,
      "outputs": [
        {
          "output_type": "stream",
          "name": "stdout",
          "text": [
            "(7, 5) (7,)\n"
          ]
        }
      ]
    },
    {
      "cell_type": "markdown",
      "source": [
        "- coef_ 행열이 (7,5) intercept_ 행도 7개\n",
        "- z식이 7개\n",
        "- 확률 계산 : 소프트맥스 함수를 사용.\n",
        "  + 소프트맥스 함수는 여러 개의 선형 방정식의 출력값을 0~1 사이로 압축하고 전체 합이 1.\n",
        "  + 이를 위해 지수 함수를 사용하기 때문에 정규화된 지수 함수라고도 부름.\n",
        "  + reference : https://gooopy.tistory.com/53"
      ],
      "metadata": {
        "id": "rcaSdNGCqzO-"
      }
    },
    {
      "cell_type": "code",
      "source": [
        "# decision_function() 메서드로  z1~z7까지 값\n",
        "\n",
        "decision = lr.decision_function(test_scaled[:5])\n",
        "print(np.round(decision, decimals=2))"
      ],
      "metadata": {
        "colab": {
          "base_uri": "https://localhost:8080/"
        },
        "id": "zyQQNIr3skVg",
        "outputId": "a84b5bc0-d98a-47f4-e071-9a1ab573c129"
      },
      "execution_count": null,
      "outputs": [
        {
          "output_type": "stream",
          "name": "stdout",
          "text": [
            "[[ -6.5    1.03   5.16  -2.73   3.34   0.33  -0.63]\n",
            " [-10.86   1.93   4.77  -2.4    2.98   7.84  -4.26]\n",
            " [ -4.34  -6.23   3.17   6.49   2.36   2.42  -3.87]\n",
            " [ -0.68   0.45   2.65  -1.19   3.26  -5.75   1.26]\n",
            " [ -6.4   -1.99   5.82  -0.11   3.5   -0.11  -0.71]]\n"
          ]
        }
      ]
    },
    {
      "cell_type": "code",
      "source": [
        "# scipy.special 이욯해 확률\n",
        "from scipy.special import softmax\n",
        "proba = softmax(decision, axis=1)\n",
        "print(np.round(proba, decimals=3))"
      ],
      "metadata": {
        "colab": {
          "base_uri": "https://localhost:8080/"
        },
        "id": "qwtIejnttEMd",
        "outputId": "7fbe332f-5274-4831-b60e-13b3113c028a"
      },
      "execution_count": null,
      "outputs": [
        {
          "output_type": "stream",
          "name": "stdout",
          "text": [
            "[[0.    0.014 0.841 0.    0.136 0.007 0.003]\n",
            " [0.    0.003 0.044 0.    0.007 0.946 0.   ]\n",
            " [0.    0.    0.034 0.935 0.015 0.016 0.   ]\n",
            " [0.011 0.034 0.306 0.007 0.567 0.    0.076]\n",
            " [0.    0.    0.904 0.002 0.089 0.002 0.001]]\n"
          ]
        }
      ]
    },
    {
      "cell_type": "markdown",
      "source": [
        "- proba 배열과 일치.\n"
      ],
      "metadata": {
        "id": "T37fSnlbuj_X"
      }
    },
    {
      "cell_type": "markdown",
      "source": [
        "# 4 - 2 확률적 경사 하강법\n",
        "- 경사 하강법 알고리즘을 이해하고 대량의 데이터에서 분류 모델을 훈련하는 방법을 배움."
      ],
      "metadata": {
        "id": "3tu5XoZSvHqp"
      }
    },
    {
      "cell_type": "markdown",
      "source": [
        "## 점진적인 학습\n",
        "- 점진적 학습 알고리즘 : 확률적 경사 하강법\n"
      ],
      "metadata": {
        "id": "kbw7n2ONviIH"
      }
    },
    {
      "cell_type": "markdown",
      "source": [
        "### 확률적 경사 하강법\n",
        "- 훈련세트에서 랜덤하게 하나의 샘플을 고르는 것.\n",
        "- 에포크(epoch) : 훈련세트를 한 번 모두 사용하는 과정.\n",
        "- 미니배치 경사 하강법 : 여러 개의 샘플을 사용해 경사 하강법.\n",
        "- 배치 경사 하강법 : 전체 샘플을 사용."
      ],
      "metadata": {
        "id": "bUom4SsJth44"
      }
    },
    {
      "cell_type": "markdown",
      "source": [
        "### 손실 함수\n",
        "- 손실함수(loss function)는 머신러닝 알고리즘이 오차를 측정하는 기준. 샘플 하나에 대한 손실을 정의\n",
        "- 비용 함수(cost function)는 손실 함수의 다른 말. 훈련 세트에 있는 모든 샘플에 대한 손실 함수의 합."
      ],
      "metadata": {
        "id": "C4G-zGFtyKqP"
      }
    },
    {
      "cell_type": "markdown",
      "source": [
        "### 로지스틱 손실 함수\n",
        "- 로지스틱 손실함수(logistic loss function) : 예측 확률에 로그함수를 적용\n",
        "  + 확률이 0, 1에서 멀어질수록 손실은 아주 큰 양수\n",
        "  + 타깃 = - 1 -log(예측확률), 타깃 = 0 -log(1-예측확률)\n",
        "  + 이진 크로스엔트로피 손실 함수라고도 함.\n",
        "- 다중 분류에서 손실 함수를 크로스엔트로피 손실 함수라고 부름.\n"
      ],
      "metadata": {
        "id": "W6I3d_u_y4-C"
      }
    },
    {
      "cell_type": "markdown",
      "source": [
        "## SGDClassifier\n"
      ],
      "metadata": {
        "id": "5E6Q7FhOusI2"
      }
    },
    {
      "cell_type": "code",
      "source": [
        "# 데이터 불러오기\n",
        "import pandas as pd\n",
        "fish = pd.read_csv('https://bit.ly/fish_csv_data')\n",
        "\n",
        "# Species 열을 제외한 나머지 5개 입력데이터로 사용.\n",
        "# Species 열은 타깃 데이터.\n",
        "fish_input = fish[['Weight', 'Length','Diagonal','Height','Width']].to_numpy()\n",
        "fish_target = fish['Species'].to_numpy()\n",
        "\n",
        "# 훈련세트와 테스트세트로 나눔.\n",
        "from sklearn.model_selection import train_test_split\n",
        "train_input, test_input, train_target, test_target = train_test_split(\n",
        "    fish_input, fish_target, random_state=42\n",
        ")\n",
        "\n",
        "# 표준화 전처리.\n",
        "from sklearn.preprocessing import StandardScaler\n",
        "ss = StandardScaler()\n",
        "ss.fit(train_input)\n",
        "train_scaled = ss.transform(train_input)\n",
        "test_scaled = ss.transform(test_input)\n",
        "\n",
        "# SGDClassifier 사용.\n",
        "from sklearn.linear_model import SGDClassifier\n",
        "\n",
        "# max_iter = 수행할 에포크 횟수 지정\n",
        "sc = SGDClassifier(loss='log', max_iter=10, random_state=42)\n",
        "sc.fit(train_scaled, train_target)\n",
        "print(sc.score(train_scaled, train_target))\n",
        "print(sc.score(test_scaled, test_target))"
      ],
      "metadata": {
        "id": "5gAD7n-Lz_7H",
        "colab": {
          "base_uri": "https://localhost:8080/"
        },
        "outputId": "b54b8464-fc42-4749-a03a-ebd243674f95"
      },
      "execution_count": null,
      "outputs": [
        {
          "output_type": "stream",
          "name": "stdout",
          "text": [
            "0.773109243697479\n",
            "0.775\n"
          ]
        },
        {
          "output_type": "stream",
          "name": "stderr",
          "text": [
            "/usr/local/lib/python3.7/dist-packages/sklearn/linear_model/_stochastic_gradient.py:700: ConvergenceWarning: Maximum number of iteration reached before convergence. Consider increasing max_iter to improve the fit.\n",
            "  ConvergenceWarning,\n"
          ]
        }
      ]
    },
    {
      "cell_type": "markdown",
      "source": [
        "- 훈련 세트와 테스트 세트 정확도가 낮다."
      ],
      "metadata": {
        "id": "mR0BM8vOsjyX"
      }
    },
    {
      "cell_type": "code",
      "source": [
        "# partial_fit() 메서드를 이용 : 모델을 추가로 훈련\n",
        "sc.partial_fit(train_scaled, train_target)\n",
        "print(sc.score(train_scaled, train_target))\n",
        "print(sc.score(test_scaled, test_target))"
      ],
      "metadata": {
        "colab": {
          "base_uri": "https://localhost:8080/"
        },
        "id": "Bpcxqc9G1QnR",
        "outputId": "82181f63-e0ed-45a4-ea25-2e7ff02d060e"
      },
      "execution_count": null,
      "outputs": [
        {
          "output_type": "stream",
          "name": "stdout",
          "text": [
            "0.8151260504201681\n",
            "0.85\n"
          ]
        }
      ]
    },
    {
      "cell_type": "markdown",
      "source": [
        "## 에포크와 과대 / 과소적합\n",
        "- 적은 에포크 횟수 동안에 훈련한 모델은 훈련세트와 테스트세트에 잘 맞이 않는 과소적합된 모델일 가능성이 높다.\n",
        "- 많은 에포크 횟수 동안에 훈련한 모델은 훈련 세트에 너무 잘 맞아 테스트 세트에는 오히려 점수가 나쁜 과대적합된 모델일 가능성이 높다.\n",
        "- 조기 종료 : 과대적합이 시작하기 전에 훈련을 멈추는 것"
      ],
      "metadata": {
        "id": "_UkxPxgW1rya"
      }
    },
    {
      "cell_type": "code",
      "source": [
        "import numpy as np\n",
        "sc = SGDClassifier(loss='log', random_state=42)\n",
        "train_score = []\n",
        "test_score = []\n",
        "classes = np.unique(train_target)\n",
        "\n",
        "# 300번의 에포크 동안 훈련을 반복 진행\n",
        "for _ in range(0, 300):\n",
        "  sc.partial_fit(train_scaled, train_target, classes=classes)\n",
        "  train_score.append(sc.score(train_scaled, train_target))\n",
        "  test_score.append(sc.score(test_scaled, test_target))\n",
        "\n",
        "# 300번 에포크 그래프\n",
        "import matplotlib.pyplot as plt\n",
        "\n",
        "fig, ax = plt.subplots()\n",
        "ax.plot(train_score)\n",
        "ax.plot(test_score)\n",
        "ax.set_xlabel(\"Epoch\")\n",
        "ax.set_ylabel(\"Accuracy\")\n",
        "plt.show()"
      ],
      "metadata": {
        "colab": {
          "base_uri": "https://localhost:8080/",
          "height": 279
        },
        "id": "Ok5MFcYI15CB",
        "outputId": "be477fe9-393b-4de4-d551-f9f46f2027ee"
      },
      "execution_count": null,
      "outputs": [
        {
          "output_type": "display_data",
          "data": {
            "text/plain": [
              "<Figure size 432x288 with 1 Axes>"
            ],
            "image/png": "[encoded data removed]"
          },
          "metadata": {
            "needs_background": "light"
          }
        }
      ]
    },
    {
      "cell_type": "markdown",
      "source": [
        "- 100번째 에포크 이후 훈련세트와 테스트세트가 벌어짐."
      ],
      "metadata": {
        "id": "kEDoOy9h39Qg"
      }
    },
    {
      "cell_type": "code",
      "source": [
        "# 반복 횟수를 100에 맞춘 모델.\n",
        "# toㅣ= None max_iter 동안 무조건 반복.\n",
        "sc = SGDClassifier(loss='log', max_iter=100, tol=None, random_state=42)\n",
        "sc.fit(train_scaled, train_target)\n",
        "print(sc.score(train_scaled, train_target))\n",
        "print(sc.score(test_scaled, test_target))\n"
      ],
      "metadata": {
        "colab": {
          "base_uri": "https://localhost:8080/"
        },
        "id": "u5Eksw2P4KQw",
        "outputId": "3d746ae8-4b81-4f31-9934-cc67d5b4991d"
      },
      "execution_count": null,
      "outputs": [
        {
          "output_type": "stream",
          "name": "stdout",
          "text": [
            "0.957983193277311\n",
            "0.925\n"
          ]
        }
      ]
    },
    {
      "cell_type": "markdown",
      "source": [
        "- 훈련세트와 테스트세트에서의 정확도  점수가 비교적 높게 나옴.\n",
        "- SGDRegressor : 확률적 경사 하강법을 사용한 분류 모델\n",
        "  + 확률적 경사 하강법을 사용한 회귀 알고리즘을 제공."
      ],
      "metadata": {
        "id": "66JMHoh14f0q"
      }
    },
    {
      "cell_type": "markdown",
      "source": [
        "- loss 매개변수의 기본값은 'hinge'.\n",
        "- 힌지 손실 : 서포트 벡터 머신이라고 불리는 또 다른 머신러닝 알고리즘을 위한 손실함수.\n",
        "- SGDClassifier가 여러 종류의 손실 함수를 loss 매개변수에 지정하여 다양한 머신러닝 알고리즘을 지원"
      ],
      "metadata": {
        "id": "-gcke-R75V5v"
      }
    },
    {
      "cell_type": "code",
      "source": [
        "# 힌지 손실을 사용해 모델 훈련\n",
        "sc = SGDClassifier(loss='hinge', max_iter=100, tol=None, random_state=42)\n",
        "sc.fit(train_scaled, train_target)\n",
        "print(sc.score(train_scaled, train_target))\n",
        "print(sc.score(test_scaled, test_target))\n"
      ],
      "metadata": {
        "colab": {
          "base_uri": "https://localhost:8080/"
        },
        "id": "MzZgRDou6GqS",
        "outputId": "3afcc393-fd67-46ab-ee32-71805ea14216"
      },
      "execution_count": null,
      "outputs": [
        {
          "output_type": "stream",
          "name": "stdout",
          "text": [
            "0.9495798319327731\n",
            "0.925\n"
          ]
        }
      ]
    },
    {
      "cell_type": "markdown",
      "source": [
        "## 점진적 학습을 위한 확률적 경사 하강법(문제해결과정)\n",
        "- 훈련을 반복할수록 모델이 훈련 세트에 점점 더 잘 막게 되어 어느 순간 과대적합되고 테스트세트의 정확도가 줄어듬.\n",
        "- 데이터를 한 번에 모두 컴퓨터 메모리에 읽을 수 없기 때문에\n",
        "--> 데이터를 조금씩 사용해 점진적으로 학습하는 방법이 필요.\n"
      ],
      "metadata": {
        "id": "gTWk2bfe6Uym"
      }
    }
  ]
}